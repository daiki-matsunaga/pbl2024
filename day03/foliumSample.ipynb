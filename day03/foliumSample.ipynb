{
 "cells": [
  {
   "cell_type": "code",
   "execution_count": null,
   "id": "3c2f3224",
   "metadata": {},
   "outputs": [],
   "source": [
    "import json\n",
    "import numpy as np\n",
    "import pandas as pd\n",
    "import folium\n",
    "\n",
    "# データ読み込み\n",
    "df = pd.read_json(\"https://covid.ourworldindata.org/data/owid-covid-data.json\")\n",
    "df = df[df.columns.drop(list(df.filter(regex='OWID')))] "
   ]
  },
  {
   "cell_type": "code",
   "execution_count": null,
   "id": "024df364",
   "metadata": {},
   "outputs": [],
   "source": [
    "# 難：日付データ\"data\"のうち，各国の最新データを元にデータフレームを作成\n",
    "\n",
    "countries = df.columns # 列の国名コード\n",
    "date_keys = pd.DataFrame(df['USA']['data']).columns # dataに含まれるcolumn名（アメリカより取得）\n",
    "\n",
    "df2 = pd.DataFrame(columns = countries, index = date_keys) # index：感染情報，column：国名コードとなるdf2を作成する\n",
    "\n",
    "# 各国ごとに最新の有効データを取得\n",
    "for country in countries:\n",
    "    # 各国のデータをDataFrameに変換\n",
    "    df_country = pd.DataFrame(df[country]['data'])\n",
    "    # 最新の有効なデータを保持する辞書を初期化\n",
    "    latest_data = {}\n",
    "    \n",
    "    # 各列について最後の有効なデータを検索\n",
    "    for column in df_country.columns:\n",
    "        last_valid_index = df_country[column].last_valid_index()\n",
    "        if last_valid_index is not None:\n",
    "            latest_data[column] = df_country.loc[last_valid_index, column]\n",
    "        else:\n",
    "            latest_data[column] = np.nan\n",
    "    \n",
    "    # 新しいDataFrameにデータを格納\n",
    "    df2[country] = pd.Series(latest_data)\n",
    "\n",
    "df_all = pd.concat([df,df2]).T\n",
    "df_all['index'] = df_all.index # foliumのために国名コードのindexもcolumnに追加する\n",
    "\n",
    "# df_allの表示\n",
    "df_all"
   ]
  },
  {
   "cell_type": "code",
   "execution_count": null,
   "id": "3e75dad0",
   "metadata": {},
   "outputs": [],
   "source": [
    "df_all.columns # columnの表示"
   ]
  },
  {
   "cell_type": "code",
   "execution_count": null,
   "id": "32658b5e",
   "metadata": {},
   "outputs": [],
   "source": [
    "# 国形状のデータを取得する\n",
    "url = \"https://raw.githubusercontent.com/python-visualization/folium/master/examples/data\"\n",
    "world_geo = f\"{url}/world-countries.json\"\n",
    "\n",
    "# foliumの表示の初期設定\n",
    "m = folium.Map(location=[0, 0], zoom_start=2)\n",
    "\n",
    "# foliumのオプション\n",
    "folium.Choropleth(\n",
    "    geo_data=world_geo, # 世界の国の形状を用いる\n",
    "    name=\"choropleth\",\n",
    "    data=df_all, # OWIDのデータを使う\n",
    "    columns=[\"index\", \"total_cases_per_million\"], # dfのうちindex（国名コード），total_cases_per_millionのcolumnを使う\n",
    "    key_on=\"feature.id\", # world_geoのfeature.idと国名コードが一致するとき，その国を色塗り\n",
    "    fill_color=\"YlOrRd\", # 色の設定\n",
    "    fill_opacity=0.7,\n",
    "    line_opacity=0.2,\n",
    "    nan_fill_color='black', # データがない国の色を設定\n",
    "    legend_name=\"total_cases_per_million\", # 凡例のラベル\n",
    ").add_to(m)\n",
    "\n",
    "folium.LayerControl().add_to(m)\n",
    "\n",
    "m # 表示"
   ]
  },
  {
   "cell_type": "code",
   "execution_count": null,
   "id": "b354b590",
   "metadata": {},
   "outputs": [],
   "source": []
  }
 ],
 "metadata": {
  "kernelspec": {
   "display_name": "Python 3 (ipykernel)",
   "language": "python",
   "name": "python3"
  },
  "language_info": {
   "codemirror_mode": {
    "name": "ipython",
    "version": 3
   },
   "file_extension": ".py",
   "mimetype": "text/x-python",
   "name": "python",
   "nbconvert_exporter": "python",
   "pygments_lexer": "ipython3",
   "version": "3.10.12"
  }
 },
 "nbformat": 4,
 "nbformat_minor": 5
}
